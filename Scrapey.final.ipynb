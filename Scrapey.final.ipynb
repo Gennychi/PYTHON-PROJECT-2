{
 "cells": [
  {
   "cell_type": "code",
   "execution_count": 162,
   "id": "bd774142",
   "metadata": {},
   "outputs": [
    {
     "name": "stdout",
     "output_type": "stream",
     "text": [
      "Requirement already satisfied: BeautifulSoup4 in c:\\programdata\\anaconda3\\lib\\site-packages (4.10.0)\n",
      "Requirement already satisfied: soupsieve>1.2 in c:\\programdata\\anaconda3\\lib\\site-packages (from BeautifulSoup4) (2.2.1)\n",
      "Note: you may need to restart the kernel to use updated packages.\n"
     ]
    }
   ],
   "source": [
    "pip install BeautifulSoup4"
   ]
  },
  {
   "cell_type": "code",
   "execution_count": 2,
   "id": "84b7254a",
   "metadata": {},
   "outputs": [
    {
     "name": "stdout",
     "output_type": "stream",
     "text": [
      "Requirement already satisfied: requests in c:\\programdata\\anaconda3\\lib\\site-packages (2.26.0)\n",
      "Requirement already satisfied: charset-normalizer~=2.0.0 in c:\\programdata\\anaconda3\\lib\\site-packages (from requests) (2.0.4)\n",
      "Requirement already satisfied: urllib3<1.27,>=1.21.1 in c:\\programdata\\anaconda3\\lib\\site-packages (from requests) (1.26.7)\n",
      "Requirement already satisfied: certifi>=2017.4.17 in c:\\programdata\\anaconda3\\lib\\site-packages (from requests) (2021.10.8)\n",
      "Requirement already satisfied: idna<4,>=2.5 in c:\\programdata\\anaconda3\\lib\\site-packages (from requests) (3.2)\n",
      "Note: you may need to restart the kernel to use updated packages.\n"
     ]
    }
   ],
   "source": [
    "pip install requests"
   ]
  },
  {
   "cell_type": "code",
   "execution_count": 3,
   "id": "f0d7afe2",
   "metadata": {},
   "outputs": [
    {
     "name": "stdout",
     "output_type": "stream",
     "text": [
      "Requirement already satisfied: html5lib in c:\\programdata\\anaconda3\\lib\\site-packages (1.1)\n",
      "Requirement already satisfied: six>=1.9 in c:\\programdata\\anaconda3\\lib\\site-packages (from html5lib) (1.16.0)\n",
      "Requirement already satisfied: webencodings in c:\\programdata\\anaconda3\\lib\\site-packages (from html5lib) (0.5.1)\n",
      "Note: you may need to restart the kernel to use updated packages.\n"
     ]
    }
   ],
   "source": [
    "pip install html5lib"
   ]
  },
  {
   "cell_type": "code",
   "execution_count": 4,
   "id": "f06a76ad",
   "metadata": {},
   "outputs": [],
   "source": [
    "import requests \n",
    "from bs4 import BeautifulSoup"
   ]
  },
  {
   "cell_type": "code",
   "execution_count": 34,
   "id": "6d200a43",
   "metadata": {},
   "outputs": [],
   "source": [
    "import numpy as np\n",
    "import pandas as pd"
   ]
  },
  {
   "cell_type": "code",
   "execution_count": 6,
   "id": "010768f0",
   "metadata": {},
   "outputs": [],
   "source": [
    "req = requests.get (\"https://nigeriapropertycentre.com/for-rent/enugu?q=for-rent+enugu\")"
   ]
  },
  {
   "cell_type": "code",
   "execution_count": 163,
   "id": "fc301ccc",
   "metadata": {},
   "outputs": [
    {
     "name": "stdout",
     "output_type": "stream",
     "text": [
      "200\n"
     ]
    }
   ],
   "source": [
    "print(req.status_code)"
   ]
  },
  {
   "cell_type": "code",
   "execution_count": 102,
   "id": "1c382d49",
   "metadata": {},
   "outputs": [],
   "source": [
    "soup_req = BeautifulSoup(req.content, \"html5lib\")"
   ]
  },
  {
   "cell_type": "code",
   "execution_count": 178,
   "id": "0722d48d",
   "metadata": {},
   "outputs": [],
   "source": [
    "date_titledloop = soup_req.find_all('span','added-on')\n",
    "title = soup_req.find_all('h4', 'content-title')\n",
    "location = soup_req.find_all ('address', 'voffset-bottom-10')\n",
    "price = soup_req.find_all('span',\"pull-sm-left\" )\n",
    "description = ('div', 'wp-block-footer')"
   ]
  },
  {
   "cell_type": "code",
   "execution_count": 179,
   "id": "64cfd9c7",
   "metadata": {},
   "outputs": [
    {
     "ename": "AttributeError",
     "evalue": "'str' object has no attribute 'text'",
     "output_type": "error",
     "traceback": [
      "\u001b[1;31m---------------------------------------------------------------------------\u001b[0m",
      "\u001b[1;31mAttributeError\u001b[0m                            Traceback (most recent call last)",
      "\u001b[1;32m~\\AppData\\Local\\Temp/ipykernel_880/1534681157.py\u001b[0m in \u001b[0;36m<module>\u001b[1;34m\u001b[0m\n\u001b[0;32m      3\u001b[0m \u001b[0mlocationloop\u001b[0m \u001b[1;33m=\u001b[0m \u001b[1;33m[\u001b[0m\u001b[0mlocations\u001b[0m\u001b[1;33m.\u001b[0m\u001b[0mtext\u001b[0m \u001b[1;32mfor\u001b[0m \u001b[0mlocations\u001b[0m \u001b[1;32min\u001b[0m \u001b[0mlocation\u001b[0m\u001b[1;33m]\u001b[0m\u001b[1;33m\u001b[0m\u001b[1;33m\u001b[0m\u001b[0m\n\u001b[0;32m      4\u001b[0m \u001b[0mpriceloop\u001b[0m \u001b[1;33m=\u001b[0m \u001b[1;33m[\u001b[0m\u001b[0mprices\u001b[0m\u001b[1;33m.\u001b[0m\u001b[0mtext\u001b[0m \u001b[1;32mfor\u001b[0m \u001b[0mprices\u001b[0m \u001b[1;32min\u001b[0m \u001b[0mprice\u001b[0m\u001b[1;33m]\u001b[0m\u001b[1;33m\u001b[0m\u001b[1;33m\u001b[0m\u001b[0m\n\u001b[1;32m----> 5\u001b[1;33m \u001b[0mdescriptionloop\u001b[0m \u001b[1;33m=\u001b[0m \u001b[1;33m[\u001b[0m\u001b[0mdescriptions\u001b[0m\u001b[1;33m.\u001b[0m\u001b[0mtext\u001b[0m \u001b[1;32mfor\u001b[0m \u001b[0mdescriptions\u001b[0m \u001b[1;32min\u001b[0m \u001b[0mdescription\u001b[0m\u001b[1;33m]\u001b[0m\u001b[1;33m\u001b[0m\u001b[1;33m\u001b[0m\u001b[0m\n\u001b[0m",
      "\u001b[1;32m~\\AppData\\Local\\Temp/ipykernel_880/1534681157.py\u001b[0m in \u001b[0;36m<listcomp>\u001b[1;34m(.0)\u001b[0m\n\u001b[0;32m      3\u001b[0m \u001b[0mlocationloop\u001b[0m \u001b[1;33m=\u001b[0m \u001b[1;33m[\u001b[0m\u001b[0mlocations\u001b[0m\u001b[1;33m.\u001b[0m\u001b[0mtext\u001b[0m \u001b[1;32mfor\u001b[0m \u001b[0mlocations\u001b[0m \u001b[1;32min\u001b[0m \u001b[0mlocation\u001b[0m\u001b[1;33m]\u001b[0m\u001b[1;33m\u001b[0m\u001b[1;33m\u001b[0m\u001b[0m\n\u001b[0;32m      4\u001b[0m \u001b[0mpriceloop\u001b[0m \u001b[1;33m=\u001b[0m \u001b[1;33m[\u001b[0m\u001b[0mprices\u001b[0m\u001b[1;33m.\u001b[0m\u001b[0mtext\u001b[0m \u001b[1;32mfor\u001b[0m \u001b[0mprices\u001b[0m \u001b[1;32min\u001b[0m \u001b[0mprice\u001b[0m\u001b[1;33m]\u001b[0m\u001b[1;33m\u001b[0m\u001b[1;33m\u001b[0m\u001b[0m\n\u001b[1;32m----> 5\u001b[1;33m \u001b[0mdescriptionloop\u001b[0m \u001b[1;33m=\u001b[0m \u001b[1;33m[\u001b[0m\u001b[0mdescriptions\u001b[0m\u001b[1;33m.\u001b[0m\u001b[0mtext\u001b[0m \u001b[1;32mfor\u001b[0m \u001b[0mdescriptions\u001b[0m \u001b[1;32min\u001b[0m \u001b[0mdescription\u001b[0m\u001b[1;33m]\u001b[0m\u001b[1;33m\u001b[0m\u001b[1;33m\u001b[0m\u001b[0m\n\u001b[0m",
      "\u001b[1;31mAttributeError\u001b[0m: 'str' object has no attribute 'text'"
     ]
    }
   ],
   "source": [
    "date_listedloop = [dates_listed.text for dates_listed in date_listed]\n",
    "titleloop = [titles.text for titles in title]\n",
    "locationloop = [locations.text for locations in location]\n",
    "priceloop = [prices.text for prices in price]\n",
    "descriptionloop = [descriptions.text for descriptions in description]\n"
   ]
  },
  {
   "cell_type": "code",
   "execution_count": 180,
   "id": "ec2d51e8",
   "metadata": {},
   "outputs": [
    {
     "name": "stdout",
     "output_type": "stream",
     "text": [
      "['\\n1 Bedroom1 Bathroom Save\\n', '\\n1 Bathroom1 Toilet1 Parking Space900 sqm Total Area Save\\n', '\\n1 Bathroom1 Toilet1 Parking Space800 sqm Total Area Save\\n', '\\n5 Bedrooms5 Bathrooms5 Toilets750 sqm Total Area Save\\n', '\\n3 Bedrooms4 Bathrooms4 Toilets4 Parking Spaces Save\\n', '\\n5 Bedrooms6 Bathrooms6 Toilets6 Parking Spaces Save\\n', '\\n1 Bathroom1 Toilet5 Parking Spaces900 sqm Total Area Save\\n', '\\n1 Bathroom1 Toilet5 Parking Spaces900 sqm Total Area Save\\n', '\\n2 Bedrooms3 Bathrooms3 Toilets3 Parking Spaces Save\\n', '\\n3 Bedrooms2 Bathrooms2 Toilets2 Parking Spaces Save\\n', '\\n3 Bedrooms3 Bathrooms3 Toilets3 Parking Spaces Save\\n', '\\n3 Bedrooms4 Bathrooms Save\\n', '\\n3 Bedrooms3 Bathrooms Save\\n', '\\n3 Bedrooms3 Bathrooms Save\\n', '\\n3 Bedrooms3 Bathrooms Save\\n', '\\n3 Bedrooms Save\\n', '\\n3 Bedrooms3 Bathrooms Save\\n', '\\n4 Bedrooms5 Bathrooms5 Toilets Save\\n', '\\n2 Bathrooms2 Toilets15 Parking Spaces Save\\n', '\\n1,800 sqm Total Area Save\\n']\n"
     ]
    }
   ],
   "source": [
    "#testing the code above\n",
    "print(descriptionloop)"
   ]
  },
  {
   "cell_type": "code",
   "execution_count": 181,
   "id": "ef09f801",
   "metadata": {},
   "outputs": [
    {
     "name": "stdout",
     "output_type": "stream",
     "text": [
      "20\n",
      "20\n",
      "20\n",
      "20\n",
      "20\n"
     ]
    }
   ],
   "source": [
    "data = {\n",
    "    'date_listed': date_listedloop,\n",
    "    'tite' : titleloop,\n",
    "    'location': locationloop,\n",
    "    'price':priceloop,\n",
    "    'description': descriptionloop\n",
    "        \n",
    "        \n",
    "    \n",
    "}\n",
    "#checking the length of our variable to know if they could be merged togther in one data frame \n",
    "print(len(date_listedloop))\n",
    "print(len(titleloop))\n",
    "print(len(locationloop))\n",
    "print(len(priceloop))\n",
    "print(len(descriptionloop))"
   ]
  },
  {
   "cell_type": "code",
   "execution_count": 182,
   "id": "e2b5f545",
   "metadata": {},
   "outputs": [],
   "source": [
    " data = {\n",
    "       'date_listed': date_listedloop,\n",
    "       'title' : titleloop,\n",
    "       'location': locationloop,\n",
    "       'price': priceloop,\n",
    "       'description': descriptionloop\n",
    " }\n",
    "df = pd.DataFrame(data, columns=[\n",
    "    'date_listed',\n",
    "    'title',\n",
    "    'location',\n",
    "    'description'\n",
    "])"
   ]
  },
  {
   "cell_type": "code",
   "execution_count": 183,
   "id": "6f509e1e",
   "metadata": {},
   "outputs": [
    {
     "name": "stdout",
     "output_type": "stream",
     "text": [
      "             date_listed                                 title  \\\n",
      "0        Added Yesterday   1 bedroom flat / apartment for rent   \n",
      "1        Added Yesterday  Self contain (single rooms) for rent   \n",
      "2   Added on 31 Mar 2022  Self contain (single rooms) for rent   \n",
      "3   Added on 30 Mar 2022    5 bedroom detached duplex for rent   \n",
      "4   Added on 28 Mar 2022   3 bedroom flat / apartment for rent   \n",
      "5   Added on 28 Mar 2022    5 bedroom detached duplex for rent   \n",
      "6   Added on 28 Mar 2022  Self contain (single rooms) for rent   \n",
      "7   Added on 28 Mar 2022                 Office space for rent   \n",
      "8   Added on 28 Mar 2022   2 bedroom flat / apartment for rent   \n",
      "9   Added on 28 Mar 2022   3 bedroom flat / apartment for rent   \n",
      "10  Added on 28 Mar 2022   3 bedroom flat / apartment for rent   \n",
      "11  Added on 27 Mar 2022   3 bedroom flat / apartment for rent   \n",
      "12  Added on 27 Mar 2022   3 bedroom flat / apartment for rent   \n",
      "13  Added on 27 Mar 2022   3 bedroom flat / apartment for rent   \n",
      "14  Added on 27 Mar 2022   3 bedroom flat / apartment for rent   \n",
      "15  Added on 27 Mar 2022   3 bedroom flat / apartment for rent   \n",
      "16  Added on 23 Mar 2022   3 bedroom flat / apartment for rent   \n",
      "17  Added on 17 Apr 2021    4 bedroom terraced duplex for rent   \n",
      "18  Added on 26 Oct 2021          Commercial property for rent   \n",
      "19  Added on 24 Feb 2022                    Warehouse for rent   \n",
      "\n",
      "                                             location  \\\n",
      "0     Republic Estate, Independence Layout, Enugu,...   \n",
      "1                        Onuiyi Nsukka, Nsukka, Enugu   \n",
      "2                  New Haven, New Haven, Enugu, Enugu   \n",
      "3     Corporative Boulevard By Dhamija, Trans Ekul...   \n",
      "4                Ugboezeji, Abakpa Nike, Enugu, Enugu   \n",
      "5                   Diamond Estate, GRA, Enugu, Enugu   \n",
      "6                   Independence Layout, Enugu, Enugu   \n",
      "7     Enugu/abakaliki Express Road, GRA, Enugu, Enugu   \n",
      "8                       Thinkers Corner, Enugu, Enugu   \n",
      "9                Ugboezeji, Abakpa Nike, Enugu, Enugu   \n",
      "10                       Premier Layout, Enugu, Enugu   \n",
      "11    Spar Independence Layout, Independence Layou...   \n",
      "12            Gra Around 9mobile Office, Enugu, Enugu   \n",
      "13    Agric Bank Axis Independence Layout, Enugu, ...   \n",
      "14                           New Heaven, Enugu, Enugu   \n",
      "15                Sunrise Estate, Emene, Enugu, Enugu   \n",
      "16                        Goshen Estate, Enugu, Enugu   \n",
      "17                Nwazota Crescent, GRA, Enugu, Enugu   \n",
      "18    Airport Road By Peace Factory Bustop, Emene,...   \n",
      "19    Peace Factory Bustop By Airport Road, Emene,...   \n",
      "\n",
      "                                          description  \\\n",
      "0                        \\n1 Bedroom1 Bathroom Save\\n   \n",
      "1   \\n1 Bathroom1 Toilet1 Parking Space900 sqm Tot...   \n",
      "2   \\n1 Bathroom1 Toilet1 Parking Space800 sqm Tot...   \n",
      "3   \\n5 Bedrooms5 Bathrooms5 Toilets750 sqm Total ...   \n",
      "4   \\n3 Bedrooms4 Bathrooms4 Toilets4 Parking Spac...   \n",
      "5   \\n5 Bedrooms6 Bathrooms6 Toilets6 Parking Spac...   \n",
      "6   \\n1 Bathroom1 Toilet5 Parking Spaces900 sqm To...   \n",
      "7   \\n1 Bathroom1 Toilet5 Parking Spaces900 sqm To...   \n",
      "8   \\n2 Bedrooms3 Bathrooms3 Toilets3 Parking Spac...   \n",
      "9   \\n3 Bedrooms2 Bathrooms2 Toilets2 Parking Spac...   \n",
      "10  \\n3 Bedrooms3 Bathrooms3 Toilets3 Parking Spac...   \n",
      "11                     \\n3 Bedrooms4 Bathrooms Save\\n   \n",
      "12                     \\n3 Bedrooms3 Bathrooms Save\\n   \n",
      "13                     \\n3 Bedrooms3 Bathrooms Save\\n   \n",
      "14                     \\n3 Bedrooms3 Bathrooms Save\\n   \n",
      "15                                \\n3 Bedrooms Save\\n   \n",
      "16                     \\n3 Bedrooms3 Bathrooms Save\\n   \n",
      "17            \\n4 Bedrooms5 Bathrooms5 Toilets Save\\n   \n",
      "18     \\n2 Bathrooms2 Toilets15 Parking Spaces Save\\n   \n",
      "19                      \\n1,800 sqm Total Area Save\\n   \n",
      "\n",
      "                       price  \n",
      "0      \\n₦500,000 per annum   \n",
      "1      \\n₦180,000 per annum   \n",
      "2      \\n₦200,000 per annum   \n",
      "3    \\n₦2,000,000 per annum   \n",
      "4      \\n₦800,000 per annum   \n",
      "5    \\n₦3,500,000 per annum   \n",
      "6      \\n₦800,000 per annum   \n",
      "7      \\n₦700,000 per annum   \n",
      "8      \\n₦850,000 per annum   \n",
      "9      \\n₦300,000 per annum   \n",
      "10     \\n₦750,000 per annum   \n",
      "11     \\n₦700,000 per annum   \n",
      "12     \\n₦600,000 per annum   \n",
      "13     \\n₦600,000 per annum   \n",
      "14     \\n₦500,000 per annum   \n",
      "15     \\n₦500,000 per annum   \n",
      "16     \\n₦500,000 per annum   \n",
      "17   \\n₦1,500,000 per annum   \n",
      "18   \\n₦2,500,000 per annum   \n",
      "19  \\n₦10,000,000 per annum   \n"
     ]
    }
   ],
   "source": [
    "df2 = pd.DataFrame(data, columns = ['price'])\n",
    "orignal_price = df2['price']\n",
    "df = df.join(orignal_price)\n",
    "print(df)"
   ]
  },
  {
   "cell_type": "code",
   "execution_count": 185,
   "id": "5f6ca9ab",
   "metadata": {},
   "outputs": [],
   "source": [
    "to_csv = df.to_csv(r'C:/Users/user/Desktop/housing_df.csv', index = False)"
   ]
  },
  {
   "cell_type": "code",
   "execution_count": null,
   "id": "f6e9973d",
   "metadata": {},
   "outputs": [],
   "source": [
    "    \n"
   ]
  },
  {
   "cell_type": "code",
   "execution_count": null,
   "id": "b7c02112",
   "metadata": {},
   "outputs": [],
   "source": []
  },
  {
   "cell_type": "code",
   "execution_count": null,
   "id": "c3887fb8",
   "metadata": {},
   "outputs": [],
   "source": []
  }
 ],
 "metadata": {
  "kernelspec": {
   "display_name": "Python 3 (ipykernel)",
   "language": "python",
   "name": "python3"
  },
  "language_info": {
   "codemirror_mode": {
    "name": "ipython",
    "version": 3
   },
   "file_extension": ".py",
   "mimetype": "text/x-python",
   "name": "python",
   "nbconvert_exporter": "python",
   "pygments_lexer": "ipython3",
   "version": "3.9.7"
  }
 },
 "nbformat": 4,
 "nbformat_minor": 5
}
